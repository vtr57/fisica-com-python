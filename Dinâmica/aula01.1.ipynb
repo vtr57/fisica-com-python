{
 "cells": [
  {
   "cell_type": "markdown",
   "metadata": {},
   "source": [
    "# Segunda Lei de Newton"
   ]
  },
  {
   "cell_type": "markdown",
   "metadata": {},
   "source": [
    "$$\\frac{d²r}{dt²}m=F_r(t,r,v)$$"
   ]
  },
  {
   "cell_type": "markdown",
   "metadata": {},
   "source": [
    "## Lançamento oblíquo com resistência do ar"
   ]
  },
  {
   "cell_type": "markdown",
   "metadata": {},
   "source": [
    "$$\\frac{dx}{dt} = v_x$$\n",
    "$$\\frac{dv_x}{dt} = -\\frac{A}{m}vv_x$$\n",
    "$$\\frac{dy}{dt} = v_y$$\n",
    "$$\\frac{dv_x}{dt} = -g-\\frac{A}{m}vv_y$$"
   ]
  },
  {
   "cell_type": "markdown",
   "metadata": {},
   "source": [
    "https://scipython.com/book2/chapter-8-scipy/examples/a-projectile-with-air-resistance/"
   ]
  },
  {
   "cell_type": "code",
   "execution_count": 64,
   "metadata": {},
   "outputs": [],
   "source": [
    "import numpy as np\n",
    "from scipy.integrate import solve_ivp\n",
    "import matplotlib.pyplot as plt"
   ]
  },
  {
   "cell_type": "code",
   "execution_count": 146,
   "metadata": {},
   "outputs": [],
   "source": [
    "# edo (modelo)\n",
    "def dfdt(t, f, A = 0.05, m = 1, g = 10):\n",
    "    x, vx, y, vy = f\n",
    "    v = np.hypot(vx, vy)\n",
    "    ax = -A/m*v*vx\n",
    "    ay = -g-A/m*v*vx\n",
    "    return vx, ax, vy, ay"
   ]
  },
  {
   "cell_type": "code",
   "execution_count": 147,
   "metadata": {},
   "outputs": [],
   "source": [
    "# condição de parada\n",
    "def solo(t, f):\n",
    "    x, vx, y, vy = f\n",
    "    return y\n",
    "solo.terminal = True\n",
    "solo.direction = -1"
   ]
  },
  {
   "cell_type": "code",
   "execution_count": 148,
   "metadata": {},
   "outputs": [],
   "source": [
    "# condições iniciais e parametros\n",
    "f0 = 0, 10, 0, 30 # x0, vx0, y0 e vy0\n",
    "t0, tf = 0, 100\n",
    "tpoints = np.linspace(t0,tf,100*tf)"
   ]
  },
  {
   "cell_type": "code",
   "execution_count": 149,
   "metadata": {},
   "outputs": [
    {
     "data": {
      "text/plain": [
       "  message: A termination event occurred.\n",
       "  success: True\n",
       "   status: 1\n",
       "        t: [ 0.000e+00  1.000e-02 ...  4.520e+00  4.530e+00]\n",
       "        y: [[ 0.000e+00  9.923e-02 ...  1.223e+01  1.224e+01]\n",
       "            [ 1.000e+01  9.844e+00 ...  5.191e-01  5.127e-01]\n",
       "            [ 0.000e+00  2.987e-01 ...  4.713e-01  2.239e-01]\n",
       "            [ 3.000e+01  2.974e+01 ... -2.469e+01 -2.479e+01]]\n",
       "      sol: None\n",
       " t_events: [array([ 4.539e+00])]\n",
       " y_events: [array([[ 1.224e+01,  5.070e-01,  0.000e+00, -2.489e+01]])]\n",
       "     nfev: 74\n",
       "     njev: 0\n",
       "      nlu: 0"
      ]
     },
     "execution_count": 149,
     "metadata": {},
     "output_type": "execute_result"
    }
   ],
   "source": [
    "# resolvendo a edo\n",
    "sol1 = solve_ivp(dfdt, (t0, tf), y0=f0, t_eval=tpoints, events=solo)\n",
    "sol1\n"
   ]
  },
  {
   "cell_type": "code",
   "execution_count": 150,
   "metadata": {},
   "outputs": [
    {
     "data": {
      "text/plain": [
       "[<matplotlib.lines.Line2D at 0x7f8bdafa9a80>]"
      ]
     },
     "execution_count": 150,
     "metadata": {},
     "output_type": "execute_result"
    },
    {
     "data": {
      "image/png": "[encoded data removed]",
      "text/plain": [
       "<Figure size 640x480 with 1 Axes>"
      ]
     },
     "metadata": {},
     "output_type": "display_data"
    }
   ],
   "source": [
    "x, y = sol1.y[0], sol1.y[2]\n",
    "plt.plot(x,y)"
   ]
  },
  {
   "cell_type": "code",
   "execution_count": null,
   "metadata": {},
   "outputs": [],
   "source": []
  },
  {
   "cell_type": "code",
   "execution_count": null,
   "metadata": {},
   "outputs": [],
   "source": []
  }
 ],
 "metadata": {
  "kernelspec": {
   "display_name": "Python 3",
   "language": "python",
   "name": "python3"
  },
  "language_info": {
   "codemirror_mode": {
    "name": "ipython",
    "version": 3
   },
   "file_extension": ".py",
   "mimetype": "text/x-python",
   "name": "python",
   "nbconvert_exporter": "python",
   "pygments_lexer": "ipython3",
   "version": "3.10.12"
  }
 },
 "nbformat": 4,
 "nbformat_minor": 2
}
