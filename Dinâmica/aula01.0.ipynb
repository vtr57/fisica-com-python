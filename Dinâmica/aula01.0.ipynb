{
 "cells": [
  {
   "cell_type": "markdown",
   "metadata": {},
   "source": [
    "# Vetores"
   ]
  },
  {
   "cell_type": "code",
   "execution_count": 1,
   "metadata": {},
   "outputs": [],
   "source": [
    "import matplotlib.pyplot as plt\n",
    "import ipywidgets as widgets"
   ]
  },
  {
   "cell_type": "markdown",
   "metadata": {},
   "source": [
    "## Adição de vetores"
   ]
  },
  {
   "cell_type": "code",
   "execution_count": 7,
   "metadata": {},
   "outputs": [],
   "source": [
    "def adição(x1 = 1, y1 = 2, x2 = -2, y2 = 3):\n",
    "    plt.grid()\n",
    "    plt.arrow(0, 0, dx = x1, dy = y1, width = 0.05, length_includes_head = True, color = 'k')\n",
    "    plt.arrow(0, 0, dx = x2, dy = y2, width = 0.05, length_includes_head = True, color = 'k')\n",
    "    plt.arrow(0, 0, dx = x1+x2, dy = y1+y2, width = 0.05, length_includes_head = True, color = 'r')\n",
    "    print(f'A = ({x1+x2:.02f},{y1+y2:.02f})')\n",
    "    plt.xlim(-6,6)\n",
    "    plt.ylim(-6,6)\n",
    "    plt.show()"
   ]
  },
  {
   "cell_type": "code",
   "execution_count": 8,
   "metadata": {},
   "outputs": [
    {
     "data": {
      "application/vnd.jupyter.widget-view+json": {
       "model_id": "ca3009bf0c2f48ce94850344e85f0134",
       "version_major": 2,
       "version_minor": 0
      },
      "text/plain": [
       "interactive(children=(FloatSlider(value=1.0, description='x1', max=5.0, min=-5.0, step=0.2), FloatSlider(value…"
      ]
     },
     "metadata": {},
     "output_type": "display_data"
    },
    {
     "data": {
      "text/plain": [
       "<function __main__.adição(x1=1, y1=2, x2=-2, y2=3)>"
      ]
     },
     "execution_count": 8,
     "metadata": {},
     "output_type": "execute_result"
    }
   ],
   "source": [
    "widgets.interact(adição, x1=(-5, 5, 0.2), y1=(-5, 5, 0.2), x2=(-5, 5, 0.2),  y2=(-5, 5, 0.2))"
   ]
  },
  {
   "cell_type": "markdown",
   "metadata": {},
   "source": [
    "## Subtração de vetores"
   ]
  },
  {
   "cell_type": "code",
   "execution_count": 11,
   "metadata": {},
   "outputs": [],
   "source": [
    "def subtração(x1 = 1, y1 = 2, x2 = -2, y2 = 3):\n",
    "    plt.grid()\n",
    "    plt.arrow(0, 0, dx = x1, dy = y1, width = 0.05, length_includes_head = True, color = 'k')\n",
    "    plt.arrow(0, 0, dx = x2, dy = y2, width = 0.05, length_includes_head = True, color = 'k')\n",
    "    plt.arrow(x2, y2, dx = x1-x2, dy = y1-y2, width = 0.05, length_includes_head = True, color = 'r')\n",
    "    print(f'S = ({x1-x2:.02f},{y1-y2:.02f})')\n",
    "    plt.xlim(-6,6)\n",
    "    plt.ylim(-6,6)\n",
    "    plt.show()"
   ]
  },
  {
   "cell_type": "code",
   "execution_count": 12,
   "metadata": {},
   "outputs": [
    {
     "data": {
      "application/vnd.jupyter.widget-view+json": {
       "model_id": "030ef20bfc964829b6fd53932dc4edc3",
       "version_major": 2,
       "version_minor": 0
      },
      "text/plain": [
       "interactive(children=(FloatSlider(value=1.0, description='x1', max=5.0, min=-5.0, step=0.2), FloatSlider(value…"
      ]
     },
     "metadata": {},
     "output_type": "display_data"
    },
    {
     "data": {
      "text/plain": [
       "<function __main__.subtração(x1=1, y1=2, x2=-2, y2=3)>"
      ]
     },
     "execution_count": 12,
     "metadata": {},
     "output_type": "execute_result"
    }
   ],
   "source": [
    "widgets.interact(subtração, x1=(-5, 5, 0.2), y1=(-5, 5, 0.2), x2=(-5, 5, 0.2),  y2=(-5, 5, 0.2))"
   ]
  },
  {
   "cell_type": "markdown",
   "metadata": {},
   "source": [
    "## Multiplicação por um escalar"
   ]
  },
  {
   "cell_type": "code",
   "execution_count": 16,
   "metadata": {},
   "outputs": [],
   "source": [
    "def multi(m = 0.2):\n",
    "    Vx, Vy = 4, 2\n",
    "    plt.arrow(0, 0, dx = Vx, dy = Vy, width = 0.05, length_includes_head = True, color = 'r')\n",
    "    plt.arrow(0, 0.1, dx = Vx*m, dy = Vy*m, width = 0.05, length_includes_head = True, color = 'b')\n",
    "    print(f'M = ({Vx*m:.02f},{Vy*m:.02f})')\n",
    "    plt.grid()\n",
    "    plt.show()"
   ]
  },
  {
   "cell_type": "code",
   "execution_count": 17,
   "metadata": {},
   "outputs": [
    {
     "data": {
      "application/vnd.jupyter.widget-view+json": {
       "model_id": "263e694366f64ac896fed9384914f999",
       "version_major": 2,
       "version_minor": 0
      },
      "text/plain": [
       "interactive(children=(FloatSlider(value=0.2, description='m', max=10.0, min=0.2), Output()), _dom_classes=('wi…"
      ]
     },
     "metadata": {},
     "output_type": "display_data"
    },
    {
     "data": {
      "text/plain": [
       "<function __main__.multi(m=0.2)>"
      ]
     },
     "execution_count": 17,
     "metadata": {},
     "output_type": "execute_result"
    }
   ],
   "source": [
    "widgets.interact(multi, m = (0.2, 10, 0.1))"
   ]
  },
  {
   "cell_type": "markdown",
   "metadata": {},
   "source": [
    "# Exercícios"
   ]
  },
  {
   "cell_type": "markdown",
   "metadata": {},
   "source": [
    "1. Qual o resultado das seguintes operações vetoriais:\n",
    "    1. (2,1) + (5,3)\n",
    "    1. (-1,2) + (3,-2)\n",
    "    1. (2,1) - (5,3)\n",
    "    1. (-1,1) - (-4,3)\n",
    "    1. 2*(2,1)\n",
    "    1. 3*(2,1) + (5,3)\n",
    "    1. (2,1) + 2*(5,3)\n"
   ]
  },
  {
   "cell_type": "code",
   "execution_count": null,
   "metadata": {},
   "outputs": [],
   "source": []
  }
 ],
 "metadata": {
  "kernelspec": {
   "display_name": "Python 3",
   "language": "python",
   "name": "python3"
  },
  "language_info": {
   "codemirror_mode": {
    "name": "ipython",
    "version": 3
   },
   "file_extension": ".py",
   "mimetype": "text/x-python",
   "name": "python",
   "nbconvert_exporter": "python",
   "pygments_lexer": "ipython3",
   "version": "3.10.12"
  }
 },
 "nbformat": 4,
 "nbformat_minor": 2
}
