{
 "cells": [
  {
   "cell_type": "markdown",
   "metadata": {},
   "source": [
    "# Exemplo da ultrapassagem"
   ]
  },
  {
   "cell_type": "markdown",
   "metadata": {},
   "source": [
    "Um carro A inicialmente situado na posição 20m com velocidade de 10 m/s ultrapassa um carro B inicialmente na posição 100m com velocidade de 2m/s. Qual o momento de ultrapassagem e qual a posição em que o carro B é ultrapassado?"
   ]
  },
  {
   "cell_type": "code",
   "execution_count": 47,
   "metadata": {},
   "outputs": [],
   "source": [
    "import numpy as np\n",
    "import matplotlib.pyplot as plt"
   ]
  },
  {
   "cell_type": "code",
   "execution_count": 48,
   "metadata": {},
   "outputs": [],
   "source": [
    "xai, va, xbi, vb, t_max, n = 20, 10, 100, 2, 20, 1000"
   ]
  },
  {
   "cell_type": "code",
   "execution_count": 49,
   "metadata": {},
   "outputs": [],
   "source": [
    "tempo = np.linspace(0, t_max, n)\n",
    "xa = va*tempo + xai\n",
    "xb = vb*tempo + xbi"
   ]
  },
  {
   "cell_type": "code",
   "execution_count": null,
   "metadata": {},
   "outputs": [],
   "source": [
    "print(xa)\n",
    "print(xb)"
   ]
  },
  {
   "cell_type": "code",
   "execution_count": 50,
   "metadata": {},
   "outputs": [],
   "source": [
    "condicao = np.where(xa>=xb)"
   ]
  },
  {
   "cell_type": "code",
   "execution_count": null,
   "metadata": {},
   "outputs": [],
   "source": [
    "condicao"
   ]
  },
  {
   "cell_type": "code",
   "execution_count": null,
   "metadata": {},
   "outputs": [],
   "source": [
    "tempo[condicao]"
   ]
  },
  {
   "cell_type": "code",
   "execution_count": null,
   "metadata": {},
   "outputs": [],
   "source": [
    "xa[condicao]"
   ]
  },
  {
   "cell_type": "code",
   "execution_count": 51,
   "metadata": {},
   "outputs": [],
   "source": [
    "posicao_ultrapassagem = xa[condicao][0]\n",
    "tempo_ultrapassagem = tempo[condicao][0]"
   ]
  },
  {
   "cell_type": "code",
   "execution_count": 52,
   "metadata": {},
   "outputs": [
    {
     "data": {
      "text/plain": [
       "'Resposta: o carro A ultrapassou B aos 10.01s e em 120.10m'"
      ]
     },
     "execution_count": 52,
     "metadata": {},
     "output_type": "execute_result"
    }
   ],
   "source": [
    "f'Resposta: o carro A ultrapassou B aos {tempo_ultrapassagem:.2f}s e em {posicao_ultrapassagem:.2f}m'"
   ]
  },
  {
   "cell_type": "markdown",
   "metadata": {},
   "source": [
    "# Exercícios"
   ]
  },
  {
   "cell_type": "markdown",
   "metadata": {},
   "source": [
    "1. Resolva o problema da ultrapassagem analiticamente e compare com o resultado numérico.\n",
    "2. Aplique os seus conhecimentos dessa aula nos seguintes problemas:\n",
    "    1. Partícula A: posição inicial = -20m, velocidade = 50m/s; Partícula B: posição inicial = 30m, velocidade = 10m/s\n",
    "    1. Partícula A: posição inicial = 100m, velocidade = -50m/s; Partícula B: posição inicial = 30m, velocidade = -10m/s\n",
    "    "
   ]
  },
  {
   "cell_type": "markdown",
   "metadata": {},
   "source": []
  }
 ],
 "metadata": {
  "kernelspec": {
   "display_name": "Python 3",
   "language": "python",
   "name": "python3"
  },
  "language_info": {
   "codemirror_mode": {
    "name": "ipython",
    "version": 3
   },
   "file_extension": ".py",
   "mimetype": "text/x-python",
   "name": "python",
   "nbconvert_exporter": "python",
   "pygments_lexer": "ipython3",
   "version": "3.10.12"
  }
 },
 "nbformat": 4,
 "nbformat_minor": 2
}
